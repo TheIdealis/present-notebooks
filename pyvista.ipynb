{
 "cells": [
  {
   "cell_type": "code",
   "execution_count": 1,
   "metadata": {},
   "outputs": [],
   "source": [
    "import pyvista as pv\n",
    "import numpy as np\n",
    "from itkwidgets import view"
   ]
  },
  {
   "cell_type": "code",
   "execution_count": 2,
   "metadata": {},
   "outputs": [],
   "source": [
    "from antipasti.jupyter import create_3D_slice"
   ]
  },
  {
   "cell_type": "code",
   "execution_count": 3,
   "metadata": {},
   "outputs": [],
   "source": [
    "x_ = np.linspace(-1., 1., 100)\n",
    "y_ = np.linspace(-1., 1., 100)\n",
    "z_ = np.linspace(-1., 1., 100)\n",
    "\n",
    "x, y, z = np.meshgrid(x_, y_, z_, indexing='ij')\n",
    "values = np.exp(-(x**2 + z**2)) * np.sin(10 * y * x)"
   ]
  },
  {
   "cell_type": "code",
   "execution_count": 3,
   "metadata": {},
   "outputs": [
    {
     "data": {
      "application/vnd.jupyter.widget-view+json": {
       "model_id": "f29606b040424c39b726a46f44d89de9",
       "version_major": 2,
       "version_minor": 0
      },
      "text/plain": [
       "Viewer(cmap=['OrPu'], geometries=[], gradient_opacity=1.0, interpolation=False, point_sets=[], rendered_image=…"
      ]
     },
     "metadata": {},
     "output_type": "display_data"
    }
   ],
   "source": [
    "def create_3D_slice(values, shape=None, cmap='OrPu', view_kw={}):\n",
    "    \"\"\"Form a complex number.\n",
    "\n",
    "    Keyword arguments:\n",
    "    values - 3D array of data\n",
    "    shape - array of floats indicating stretching in each direction, if the sampling in different directions is not equally spaced\n",
    "    cmap - colormap\n",
    "    view_kw - a dictionary of values passed to view\n",
    "    \"\"\"\n",
    "    grid = pv.UniformGrid()\n",
    "    grid.dimensions = values.shape\n",
    "\n",
    "    if not (shape is None):\n",
    "        grid.spacing = shape\n",
    "    grid.point_arrays[\"values\"] = values.flatten(order=\"F\")\n",
    "    v = view(grid, slicing_planes=True, ui_collapsed=True, shadow=False,\n",
    "        gradient_opacity=1.0, interpolation=False, cmap='OrPu',\n",
    "        x_slice=20, y_slice=80, z_slice=20, **view_kw)\n",
    "    return v\n",
    "create_3D_slice(values)"
   ]
  },
  {
   "cell_type": "code",
   "execution_count": 4,
   "metadata": {},
   "outputs": [
    {
     "data": {
      "application/vnd.jupyter.widget-view+json": {
       "model_id": "9563124c236841089105c2aebde71c43",
       "version_major": 2,
       "version_minor": 0
      },
      "text/plain": [
       "Viewer(cmap=['OrPu'], geometries=[], gradient_opacity=1.0, interpolation=False, point_sets=[], rendered_image=…"
      ]
     },
     "metadata": {},
     "output_type": "display_data"
    }
   ],
   "source": [
    "create_3D_slice(values)"
   ]
  },
  {
   "cell_type": "code",
   "execution_count": null,
   "metadata": {},
   "outputs": [],
   "source": []
  }
 ],
 "metadata": {
  "kernelspec": {
   "display_name": "Python 3",
   "language": "python",
   "name": "python3"
  },
  "language_info": {
   "codemirror_mode": {
    "name": "ipython",
    "version": 3
   },
   "file_extension": ".py",
   "mimetype": "text/x-python",
   "name": "python",
   "nbconvert_exporter": "python",
   "pygments_lexer": "ipython3",
   "version": "3.7.8"
  }
 },
 "nbformat": 4,
 "nbformat_minor": 4
}
