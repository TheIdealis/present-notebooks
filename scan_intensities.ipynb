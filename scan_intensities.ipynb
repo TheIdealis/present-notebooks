{
 "cells": [
  {
   "cell_type": "code",
   "execution_count": 3,
   "metadata": {},
   "outputs": [],
   "source": [
    "%matplotlib ipympl\n",
    "def figure(name, nrows=1, ncols=1, *args, **kwargs):\n",
    "    plt.close(name)\n",
    "    return plt.subplots(nrows, ncols, num=name, *args, **kwargs)\n",
    "\n",
    "import numpy as np\n",
    "import pylab as plt\n",
    "plt.style.use('default')"
   ]
  },
  {
   "cell_type": "code",
   "execution_count": 41,
   "metadata": {},
   "outputs": [],
   "source": [
    "from ipywidgets import IntSlider, Text, HBox, Layout\n",
    "import warnings\n",
    "warnings.filterwarnings('ignore')"
   ]
  },
  {
   "cell_type": "code",
   "execution_count": 42,
   "metadata": {},
   "outputs": [],
   "source": [
    "displs = np.linspace(-0.02, 0.02, 9)\n",
    "nums = [2 * i + 1 for i in range(15)]\n",
    "ints = [0.1, 0.3, 0.7, 1., 1.3, 1.7, 2., 2.3, 2.7, 3.]\n",
    "ws = [1.5, 2.2, 3.1]"
   ]
  },
  {
   "cell_type": "code",
   "execution_count": 43,
   "metadata": {},
   "outputs": [],
   "source": [
    "# load data\n",
    "data = np.zeros((3, len(ints), len(nums), len(displs)))\n",
    "um = 1.5\n",
    "for i, fs in enumerate(ints):\n",
    "    data[0, i] = np.load(f'data/1c_2v_{um:.1f}um_fs={fs:.1f}Vnm.npz')['peaks']"
   ]
  },
  {
   "cell_type": "code",
   "execution_count": 47,
   "metadata": {},
   "outputs": [
    {
     "data": {
      "application/vnd.jupyter.widget-view+json": {
       "model_id": "2fe8b4daa9f84fd2859a3f00a0c0b6fc",
       "version_major": 2,
       "version_minor": 0
      },
      "text/plain": [
       "Canvas(toolbar=Toolbar(toolitems=[('Home', 'Reset original view', 'home', 'home'), ('Back', 'Back to previous …"
      ]
     },
     "metadata": {},
     "output_type": "display_data"
    },
    {
     "data": {
      "application/vnd.jupyter.widget-view+json": {
       "model_id": "18478d8d944c46c890273310b514b87d",
       "version_major": 2,
       "version_minor": 0
      },
      "text/plain": [
       "HBox(children=(IntSlider(value=0, description='fs: ', max=9, readout=False), Text(value='0.1V/nm', layout=Layo…"
      ]
     },
     "metadata": {},
     "output_type": "display_data"
    }
   ],
   "source": [
    "def get_slider():\n",
    "    fs = IntSlider(\n",
    "        description='fs: ',\n",
    "        value=0, min=0, max=len(ints)-1,\n",
    "        readout=False\n",
    "    )\n",
    "    fs_text = Text(value=f'{ints[0]:.1f}V/nm', description='', layout=Layout(width='80px'))\n",
    "    fs_ind = fs.value\n",
    "    lines = []\n",
    "    fig, ax = figure(1, 1, 3, figsize=(12, 4))\n",
    "    for u in range(3):\n",
    "        for i, num in enumerate(nums[:11]):\n",
    "            peaks = data[0, fs_ind]\n",
    "            lines.append(ax[u].plot(displs, peaks[i] / peaks[i, len(displs)//2], lw=2, label=f'HH{nums[i]}')[0])\n",
    "        ax[u].set_xlabel('atom. displacement')\n",
    "        ax[u].set_ylim([0.2, 2.02])\n",
    "        ax[u].set_title(f'{ws[u]:.1f}um')\n",
    "        \n",
    "    def redraw(change):\n",
    "        fs_ind = fs.value  \n",
    "        for u in range(3):\n",
    "            for i, num in enumerate(nums[:11]):\n",
    "                peaks = data[0, fs_ind]\n",
    "                lines[u*11 + i].set_data(displs, peaks[i] / peaks[i, len(displs)//2])\n",
    "        fs_text.value = f'{ints[fs_ind]:.1f}V/nm'\n",
    "        fig.canvas.draw()\n",
    "        fig.canvas.flush_events()\n",
    "        \n",
    "    fs.observe(redraw, names='value')\n",
    "    return HBox([fs, fs_text])\n",
    "\n",
    "get_slider()"
   ]
  },
  {
   "cell_type": "code",
   "execution_count": null,
   "metadata": {},
   "outputs": [],
   "source": []
  }
 ],
 "metadata": {
  "kernelspec": {
   "display_name": "Python 3",
   "language": "python",
   "name": "python3"
  },
  "language_info": {
   "codemirror_mode": {
    "name": "ipython",
    "version": 3
   },
   "file_extension": ".py",
   "mimetype": "text/x-python",
   "name": "python",
   "nbconvert_exporter": "python",
   "pygments_lexer": "ipython3",
   "version": "3.7.8"
  }
 },
 "nbformat": 4,
 "nbformat_minor": 4
}
